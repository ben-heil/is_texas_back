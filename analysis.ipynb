{
 "cells": [
  {
   "cell_type": "code",
   "execution_count": 1,
   "metadata": {},
   "outputs": [],
   "source": [
    "import pandas as pd\n",
    "import psaw\n",
    "from plotnine import *"
   ]
  },
  {
   "cell_type": "code",
   "execution_count": 2,
   "metadata": {},
   "outputs": [],
   "source": [
    "api = psaw.PushshiftAPI()"
   ]
  },
  {
   "cell_type": "markdown",
   "metadata": {},
   "source": [
    "### Download all comments containing the phrase 'Texas is back' in r/CFB"
   ]
  },
  {
   "cell_type": "code",
   "execution_count": 3,
   "metadata": {},
   "outputs": [
    {
     "name": "stdout",
     "output_type": "stream",
     "text": [
      "1000\n",
      "2000\n",
      "3000\n",
      "4000\n"
     ]
    }
   ],
   "source": [
    "gen = api.search_comments(q='\"texas is back\"', subreddit='cfb')\n",
    "\n",
    "max_response = 1000000\n",
    "\n",
    "comment_list = []\n",
    "\n",
    "for c in gen:\n",
    "    comment_list.append(c)\n",
    "    \n",
    "    if len(comment_list) % 1000 == 0:\n",
    "        print(len(comment_list))\n",
    "    \n",
    "    if len(comment_list) >  max_response:\n",
    "        break\n",
    "    "
   ]
  },
  {
   "cell_type": "markdown",
   "metadata": {},
   "source": [
    "## Parse the list of comments to store them in a form more usable by pandas"
   ]
  },
  {
   "cell_type": "code",
   "execution_count": 4,
   "metadata": {},
   "outputs": [],
   "source": [
    "comment_dict = {'flair': [], 'time': [], 'is_game_thread': [], \n",
    "                'author': [], 'score': [], 'link': [], 'text': []}\n",
    "\n",
    "for comment in comment_list:\n",
    "    flair = 'None'\n",
    "    if comment.author_flair_text is not None:\n",
    "        if len(comment.author_flair_text.split(':')) > 1:\n",
    "            flair = comment.author_flair_text.split(':')[1]\n",
    "\n",
    "    time = comment.created_utc\n",
    "    author = comment.author\n",
    "    score = comment.score\n",
    "\n",
    "    if not hasattr(comment, 'permalink'):\n",
    "        comment_dict['is_game_thread'].append(None)\n",
    "        comment_dict['link'].append(None)\n",
    "    else:\n",
    "        if 'game_thread' in comment.permalink:\n",
    "            comment_dict['is_game_thread'].append(True)\n",
    "        else:\n",
    "            comment_dict['is_game_thread'].append(False)\n",
    "        comment_dict['link'].append(comment.permalink)\n",
    "\n",
    "    comment_dict['flair'].append(flair)\n",
    "    comment_dict['time'].append(time)\n",
    "    comment_dict['author'].append(author)\n",
    "    comment_dict['score'].append(score)\n",
    "    comment_dict['text'].append(comment.body)\n",
    "\n",
    "# Remove numbers from alt flairs\n",
    "for i in range(len(comment_dict['flair'])):\n",
    "    comment_dict['flair'][i] = comment_dict['flair'][i].rstrip('0123456789')\n",
    "    \n",
    "comment_df = pd.DataFrame.from_dict(comment_dict)"
   ]
  },
  {
   "cell_type": "code",
   "execution_count": 5,
   "metadata": {},
   "outputs": [
    {
     "data": {
      "text/html": [
       "<div>\n",
       "<style scoped>\n",
       "    .dataframe tbody tr th:only-of-type {\n",
       "        vertical-align: middle;\n",
       "    }\n",
       "\n",
       "    .dataframe tbody tr th {\n",
       "        vertical-align: top;\n",
       "    }\n",
       "\n",
       "    .dataframe thead th {\n",
       "        text-align: right;\n",
       "    }\n",
       "</style>\n",
       "<table border=\"1\" class=\"dataframe\">\n",
       "  <thead>\n",
       "    <tr style=\"text-align: right;\">\n",
       "      <th></th>\n",
       "      <th>flair</th>\n",
       "      <th>time</th>\n",
       "      <th>is_game_thread</th>\n",
       "      <th>author</th>\n",
       "      <th>score</th>\n",
       "      <th>link</th>\n",
       "      <th>text</th>\n",
       "    </tr>\n",
       "  </thead>\n",
       "  <tbody>\n",
       "    <tr>\n",
       "      <th>0</th>\n",
       "      <td>oklahoma</td>\n",
       "      <td>1575680846</td>\n",
       "      <td>False</td>\n",
       "      <td>SoonerGeologist</td>\n",
       "      <td>1</td>\n",
       "      <td>/r/CFB/comments/e76h2c/oklahoma_is_in_search_o...</td>\n",
       "      <td>We use recycled Texas is back billboards.</td>\n",
       "    </tr>\n",
       "    <tr>\n",
       "      <th>1</th>\n",
       "      <td>notredame</td>\n",
       "      <td>1575557778</td>\n",
       "      <td>False</td>\n",
       "      <td>mbrogan4</td>\n",
       "      <td>1</td>\n",
       "      <td>/r/CFB/comments/e515s2/coaching_carousel_threa...</td>\n",
       "      <td>I do enjoy also beating Texas, but I think we ...</td>\n",
       "    </tr>\n",
       "    <tr>\n",
       "      <th>2</th>\n",
       "      <td>oregon</td>\n",
       "      <td>1575474050</td>\n",
       "      <td>False</td>\n",
       "      <td>Graduation2017</td>\n",
       "      <td>1</td>\n",
       "      <td>/r/CFB/comments/e5zrx5/how_joe_burrow_won_over...</td>\n",
       "      <td>I'm amazed at how Georgia has recently managed...</td>\n",
       "    </tr>\n",
       "    <tr>\n",
       "      <th>3</th>\n",
       "      <td>texas</td>\n",
       "      <td>1575454685</td>\n",
       "      <td>False</td>\n",
       "      <td>Allaboutfootball23</td>\n",
       "      <td>1</td>\n",
       "      <td>/r/CFB/comments/e5vedj/klatt_expect_usc_to_kee...</td>\n",
       "      <td>Yes yes. I have said that before. 7-10 years a...</td>\n",
       "    </tr>\n",
       "    <tr>\n",
       "      <th>4</th>\n",
       "      <td>georgia</td>\n",
       "      <td>1575449573</td>\n",
       "      <td>False</td>\n",
       "      <td>mightymagikarp7</td>\n",
       "      <td>1</td>\n",
       "      <td>/r/CFB/comments/e5wen7/texas_qb_sam_ehlinger_t...</td>\n",
       "      <td>**Texas is back!** ^(to being average)</td>\n",
       "    </tr>\n",
       "  </tbody>\n",
       "</table>\n",
       "</div>"
      ],
      "text/plain": [
       "       flair        time is_game_thread              author  score  \\\n",
       "0   oklahoma  1575680846          False     SoonerGeologist      1   \n",
       "1  notredame  1575557778          False            mbrogan4      1   \n",
       "2     oregon  1575474050          False      Graduation2017      1   \n",
       "3      texas  1575454685          False  Allaboutfootball23      1   \n",
       "4    georgia  1575449573          False     mightymagikarp7      1   \n",
       "\n",
       "                                                link  \\\n",
       "0  /r/CFB/comments/e76h2c/oklahoma_is_in_search_o...   \n",
       "1  /r/CFB/comments/e515s2/coaching_carousel_threa...   \n",
       "2  /r/CFB/comments/e5zrx5/how_joe_burrow_won_over...   \n",
       "3  /r/CFB/comments/e5vedj/klatt_expect_usc_to_kee...   \n",
       "4  /r/CFB/comments/e5wen7/texas_qb_sam_ehlinger_t...   \n",
       "\n",
       "                                                text  \n",
       "0          We use recycled Texas is back billboards.  \n",
       "1  I do enjoy also beating Texas, but I think we ...  \n",
       "2  I'm amazed at how Georgia has recently managed...  \n",
       "3  Yes yes. I have said that before. 7-10 years a...  \n",
       "4             **Texas is back!** ^(to being average)  "
      ]
     },
     "execution_count": 5,
     "metadata": {},
     "output_type": "execute_result"
    }
   ],
   "source": [
    "comment_df.head()"
   ]
  },
  {
   "cell_type": "code",
   "execution_count": 6,
   "metadata": {},
   "outputs": [],
   "source": [
    "# Convert seconds since 1970 to something readable\n",
    "comment_df['time'] = pd.to_datetime(comment_df['time'], unit='s')"
   ]
  },
  {
   "cell_type": "code",
   "execution_count": 7,
   "metadata": {},
   "outputs": [
    {
     "data": {
      "text/html": [
       "<div>\n",
       "<style scoped>\n",
       "    .dataframe tbody tr th:only-of-type {\n",
       "        vertical-align: middle;\n",
       "    }\n",
       "\n",
       "    .dataframe tbody tr th {\n",
       "        vertical-align: top;\n",
       "    }\n",
       "\n",
       "    .dataframe thead th {\n",
       "        text-align: right;\n",
       "    }\n",
       "</style>\n",
       "<table border=\"1\" class=\"dataframe\">\n",
       "  <thead>\n",
       "    <tr style=\"text-align: right;\">\n",
       "      <th></th>\n",
       "      <th>flair</th>\n",
       "      <th>time</th>\n",
       "      <th>is_game_thread</th>\n",
       "      <th>author</th>\n",
       "      <th>score</th>\n",
       "      <th>link</th>\n",
       "      <th>text</th>\n",
       "    </tr>\n",
       "  </thead>\n",
       "  <tbody>\n",
       "    <tr>\n",
       "      <th>0</th>\n",
       "      <td>oklahoma</td>\n",
       "      <td>2019-12-07 01:07:26</td>\n",
       "      <td>False</td>\n",
       "      <td>SoonerGeologist</td>\n",
       "      <td>1</td>\n",
       "      <td>/r/CFB/comments/e76h2c/oklahoma_is_in_search_o...</td>\n",
       "      <td>We use recycled Texas is back billboards.</td>\n",
       "    </tr>\n",
       "    <tr>\n",
       "      <th>1</th>\n",
       "      <td>notredame</td>\n",
       "      <td>2019-12-05 14:56:18</td>\n",
       "      <td>False</td>\n",
       "      <td>mbrogan4</td>\n",
       "      <td>1</td>\n",
       "      <td>/r/CFB/comments/e515s2/coaching_carousel_threa...</td>\n",
       "      <td>I do enjoy also beating Texas, but I think we ...</td>\n",
       "    </tr>\n",
       "    <tr>\n",
       "      <th>2</th>\n",
       "      <td>oregon</td>\n",
       "      <td>2019-12-04 15:40:50</td>\n",
       "      <td>False</td>\n",
       "      <td>Graduation2017</td>\n",
       "      <td>1</td>\n",
       "      <td>/r/CFB/comments/e5zrx5/how_joe_burrow_won_over...</td>\n",
       "      <td>I'm amazed at how Georgia has recently managed...</td>\n",
       "    </tr>\n",
       "    <tr>\n",
       "      <th>3</th>\n",
       "      <td>texas</td>\n",
       "      <td>2019-12-04 10:18:05</td>\n",
       "      <td>False</td>\n",
       "      <td>Allaboutfootball23</td>\n",
       "      <td>1</td>\n",
       "      <td>/r/CFB/comments/e5vedj/klatt_expect_usc_to_kee...</td>\n",
       "      <td>Yes yes. I have said that before. 7-10 years a...</td>\n",
       "    </tr>\n",
       "    <tr>\n",
       "      <th>4</th>\n",
       "      <td>georgia</td>\n",
       "      <td>2019-12-04 08:52:53</td>\n",
       "      <td>False</td>\n",
       "      <td>mightymagikarp7</td>\n",
       "      <td>1</td>\n",
       "      <td>/r/CFB/comments/e5wen7/texas_qb_sam_ehlinger_t...</td>\n",
       "      <td>**Texas is back!** ^(to being average)</td>\n",
       "    </tr>\n",
       "  </tbody>\n",
       "</table>\n",
       "</div>"
      ],
      "text/plain": [
       "       flair                time is_game_thread              author  score  \\\n",
       "0   oklahoma 2019-12-07 01:07:26          False     SoonerGeologist      1   \n",
       "1  notredame 2019-12-05 14:56:18          False            mbrogan4      1   \n",
       "2     oregon 2019-12-04 15:40:50          False      Graduation2017      1   \n",
       "3      texas 2019-12-04 10:18:05          False  Allaboutfootball23      1   \n",
       "4    georgia 2019-12-04 08:52:53          False     mightymagikarp7      1   \n",
       "\n",
       "                                                link  \\\n",
       "0  /r/CFB/comments/e76h2c/oklahoma_is_in_search_o...   \n",
       "1  /r/CFB/comments/e515s2/coaching_carousel_threa...   \n",
       "2  /r/CFB/comments/e5zrx5/how_joe_burrow_won_over...   \n",
       "3  /r/CFB/comments/e5vedj/klatt_expect_usc_to_kee...   \n",
       "4  /r/CFB/comments/e5wen7/texas_qb_sam_ehlinger_t...   \n",
       "\n",
       "                                                text  \n",
       "0          We use recycled Texas is back billboards.  \n",
       "1  I do enjoy also beating Texas, but I think we ...  \n",
       "2  I'm amazed at how Georgia has recently managed...  \n",
       "3  Yes yes. I have said that before. 7-10 years a...  \n",
       "4             **Texas is back!** ^(to being average)  "
      ]
     },
     "execution_count": 7,
     "metadata": {},
     "output_type": "execute_result"
    }
   ],
   "source": [
    "comment_df.head()"
   ]
  },
  {
   "cell_type": "markdown",
   "metadata": {},
   "source": [
    "## Create visualizations"
   ]
  },
  {
   "cell_type": "code",
   "execution_count": 8,
   "metadata": {},
   "outputs": [
    {
     "data": {
      "text/html": [
       "<div>\n",
       "<style scoped>\n",
       "    .dataframe tbody tr th:only-of-type {\n",
       "        vertical-align: middle;\n",
       "    }\n",
       "\n",
       "    .dataframe tbody tr th {\n",
       "        vertical-align: top;\n",
       "    }\n",
       "\n",
       "    .dataframe thead th {\n",
       "        text-align: right;\n",
       "    }\n",
       "</style>\n",
       "<table border=\"1\" class=\"dataframe\">\n",
       "  <thead>\n",
       "    <tr style=\"text-align: right;\">\n",
       "      <th></th>\n",
       "      <th>flair</th>\n",
       "      <th>time</th>\n",
       "      <th>is_game_thread</th>\n",
       "      <th>author</th>\n",
       "      <th>score</th>\n",
       "      <th>link</th>\n",
       "      <th>text</th>\n",
       "    </tr>\n",
       "  </thead>\n",
       "  <tbody>\n",
       "    <tr>\n",
       "      <th>1893</th>\n",
       "      <td>sandiego</td>\n",
       "      <td>2018-09-22 23:59:11</td>\n",
       "      <td>True</td>\n",
       "      <td>bears2267</td>\n",
       "      <td>2278</td>\n",
       "      <td>/r/CFB/comments/9i4976/postgame_thread_texas_d...</td>\n",
       "      <td>Texas is:\\n\\n~~Back~~\\n\\n~~Not back~~\\n\\nWeird</td>\n",
       "    </tr>\n",
       "    <tr>\n",
       "      <th>2008</th>\n",
       "      <td>oklahomastate</td>\n",
       "      <td>2018-09-16 04:00:20</td>\n",
       "      <td>True</td>\n",
       "      <td>ratattack97</td>\n",
       "      <td>1993</td>\n",
       "      <td>/r/CFB/comments/9g7r0p/postgame_thread_texas_d...</td>\n",
       "      <td>Texas is:\\n\\n❌ ~~back~~\\n\\n❌ ~~not back~~\\n\\n❌...</td>\n",
       "    </tr>\n",
       "    <tr>\n",
       "      <th>1548</th>\n",
       "      <td>ucf</td>\n",
       "      <td>2018-10-06 19:43:35</td>\n",
       "      <td>True</td>\n",
       "      <td>TEFL_job_seeker</td>\n",
       "      <td>1295</td>\n",
       "      <td>/r/CFB/comments/9lyuw8/postgame_thread_texas_d...</td>\n",
       "      <td>This high score unlocks the achievement:\\n\\nTE...</td>\n",
       "    </tr>\n",
       "    <tr>\n",
       "      <th>1879</th>\n",
       "      <td>texas</td>\n",
       "      <td>2018-09-22 23:59:46</td>\n",
       "      <td>True</td>\n",
       "      <td>adamjm99</td>\n",
       "      <td>1290</td>\n",
       "      <td>/r/CFB/comments/9i4976/postgame_thread_texas_d...</td>\n",
       "      <td>Texas is:  \\n⚪️ Back  \\n⚪️ Not Back  \\n✅ Not b...</td>\n",
       "    </tr>\n",
       "    <tr>\n",
       "      <th>1597</th>\n",
       "      <td>auburn</td>\n",
       "      <td>2018-10-06 19:42:14</td>\n",
       "      <td>True</td>\n",
       "      <td>gibby67</td>\n",
       "      <td>1210</td>\n",
       "      <td>/r/CFB/comments/9lyuw8/postgame_thread_texas_d...</td>\n",
       "      <td>I made the mistake of saying \"Texas is back\" i...</td>\n",
       "    </tr>\n",
       "    <tr>\n",
       "      <th>...</th>\n",
       "      <td>...</td>\n",
       "      <td>...</td>\n",
       "      <td>...</td>\n",
       "      <td>...</td>\n",
       "      <td>...</td>\n",
       "      <td>...</td>\n",
       "      <td>...</td>\n",
       "    </tr>\n",
       "    <tr>\n",
       "      <th>3936</th>\n",
       "      <td>None</td>\n",
       "      <td>2017-06-05 22:40:34</td>\n",
       "      <td>None</td>\n",
       "      <td>kchrystie5</td>\n",
       "      <td>-27</td>\n",
       "      <td>None</td>\n",
       "      <td>Wow- another big time name commits to Texas. H...</td>\n",
       "    </tr>\n",
       "    <tr>\n",
       "      <th>669</th>\n",
       "      <td>georgia</td>\n",
       "      <td>2019-06-20 14:24:50</td>\n",
       "      <td>False</td>\n",
       "      <td>WashedUpUGAGolfer</td>\n",
       "      <td>-31</td>\n",
       "      <td>/r/CFB/comments/c2wli8/texas_football_2020_rec...</td>\n",
       "      <td>But Texas is back?!?!</td>\n",
       "    </tr>\n",
       "    <tr>\n",
       "      <th>8</th>\n",
       "      <td>None</td>\n",
       "      <td>2019-12-01 23:45:10</td>\n",
       "      <td>False</td>\n",
       "      <td>treyarchisking</td>\n",
       "      <td>-31</td>\n",
       "      <td>/r/CFB/comments/e4pwjt/2020_4_cb_ethan_pouncey...</td>\n",
       "      <td>Yeah I wouldn’t worry too much , Texas is BACK...</td>\n",
       "    </tr>\n",
       "    <tr>\n",
       "      <th>2679</th>\n",
       "      <td>None</td>\n",
       "      <td>2018-08-10 00:04:22</td>\n",
       "      <td>False</td>\n",
       "      <td>CookLove</td>\n",
       "      <td>-31</td>\n",
       "      <td>/r/CFB/comments/961noi/2018_coaches_poll_top_1...</td>\n",
       "      <td>*Texas posts a 9-3 record this season*\\n\\n“I’m...</td>\n",
       "    </tr>\n",
       "    <tr>\n",
       "      <th>739</th>\n",
       "      <td>tennessee</td>\n",
       "      <td>2019-03-31 04:57:44</td>\n",
       "      <td>False</td>\n",
       "      <td>TC_Knight</td>\n",
       "      <td>-39</td>\n",
       "      <td>/r/CFB/comments/b7i2i6/2020_3star_rb_jaden_hul...</td>\n",
       "      <td>TEXAS IS BACK</td>\n",
       "    </tr>\n",
       "  </tbody>\n",
       "</table>\n",
       "<p>4559 rows × 7 columns</p>\n",
       "</div>"
      ],
      "text/plain": [
       "              flair                time is_game_thread             author  \\\n",
       "1893       sandiego 2018-09-22 23:59:11           True          bears2267   \n",
       "2008  oklahomastate 2018-09-16 04:00:20           True        ratattack97   \n",
       "1548            ucf 2018-10-06 19:43:35           True    TEFL_job_seeker   \n",
       "1879          texas 2018-09-22 23:59:46           True           adamjm99   \n",
       "1597         auburn 2018-10-06 19:42:14           True            gibby67   \n",
       "...             ...                 ...            ...                ...   \n",
       "3936           None 2017-06-05 22:40:34           None         kchrystie5   \n",
       "669         georgia 2019-06-20 14:24:50          False  WashedUpUGAGolfer   \n",
       "8              None 2019-12-01 23:45:10          False     treyarchisking   \n",
       "2679           None 2018-08-10 00:04:22          False           CookLove   \n",
       "739       tennessee 2019-03-31 04:57:44          False          TC_Knight   \n",
       "\n",
       "      score                                               link  \\\n",
       "1893   2278  /r/CFB/comments/9i4976/postgame_thread_texas_d...   \n",
       "2008   1993  /r/CFB/comments/9g7r0p/postgame_thread_texas_d...   \n",
       "1548   1295  /r/CFB/comments/9lyuw8/postgame_thread_texas_d...   \n",
       "1879   1290  /r/CFB/comments/9i4976/postgame_thread_texas_d...   \n",
       "1597   1210  /r/CFB/comments/9lyuw8/postgame_thread_texas_d...   \n",
       "...     ...                                                ...   \n",
       "3936    -27                                               None   \n",
       "669     -31  /r/CFB/comments/c2wli8/texas_football_2020_rec...   \n",
       "8       -31  /r/CFB/comments/e4pwjt/2020_4_cb_ethan_pouncey...   \n",
       "2679    -31  /r/CFB/comments/961noi/2018_coaches_poll_top_1...   \n",
       "739     -39  /r/CFB/comments/b7i2i6/2020_3star_rb_jaden_hul...   \n",
       "\n",
       "                                                   text  \n",
       "1893     Texas is:\\n\\n~~Back~~\\n\\n~~Not back~~\\n\\nWeird  \n",
       "2008  Texas is:\\n\\n❌ ~~back~~\\n\\n❌ ~~not back~~\\n\\n❌...  \n",
       "1548  This high score unlocks the achievement:\\n\\nTE...  \n",
       "1879  Texas is:  \\n⚪️ Back  \\n⚪️ Not Back  \\n✅ Not b...  \n",
       "1597  I made the mistake of saying \"Texas is back\" i...  \n",
       "...                                                 ...  \n",
       "3936  Wow- another big time name commits to Texas. H...  \n",
       "669                               But Texas is back?!?!  \n",
       "8     Yeah I wouldn’t worry too much , Texas is BACK...  \n",
       "2679  *Texas posts a 9-3 record this season*\\n\\n“I’m...  \n",
       "739                                       TEXAS IS BACK  \n",
       "\n",
       "[4559 rows x 7 columns]"
      ]
     },
     "execution_count": 8,
     "metadata": {},
     "output_type": "execute_result"
    }
   ],
   "source": [
    "comment_df.sort_values(by='score', ascending=False)"
   ]
  },
  {
   "cell_type": "code",
   "execution_count": 9,
   "metadata": {},
   "outputs": [
    {
     "name": "stdout",
     "output_type": "stream",
     "text": [
      "/r/CFB/comments/9i4976/postgame_thread_texas_defeats_tcu_3116/e6gp06g/\n"
     ]
    }
   ],
   "source": [
    "print(comment_df.iloc[1893, :].link)"
   ]
  },
  {
   "cell_type": "markdown",
   "metadata": {},
   "source": [
    "### Frequency of 'Texas is back' comments over time"
   ]
  },
  {
   "cell_type": "code",
   "execution_count": 11,
   "metadata": {},
   "outputs": [],
   "source": [
    "new_comments_df = comment_df[comment_df['time'] > '2016-1-01 00:00:00']"
   ]
  },
  {
   "cell_type": "code",
   "execution_count": 12,
   "metadata": {},
   "outputs": [
    {
     "data": {
      "image/png": "[encoded data removed]",
      "text/plain": [
       "<Figure size 640x480 with 1 Axes>"
      ]
     },
     "metadata": {},
     "output_type": "display_data"
    },
    {
     "data": {
      "text/plain": [
       "<ggplot: (8772498709239)>"
      ]
     },
     "execution_count": 12,
     "metadata": {},
     "output_type": "execute_result"
    }
   ],
   "source": [
    "(ggplot(new_comments_df, aes(x='time')) + \n",
    "    geom_histogram(fill='#bf5700', bins=48) + \n",
    "    ggtitle('Texas is Back Posts Over Time') +\n",
    "    ylab('Number of Comments') +\n",
    "    xlab('Comment Date') +\n",
    "    theme_dark() +\n",
    "    theme(axis_text_x=element_text(rotation=90, hjust=1),\n",
    "          panel_grid_minor=element_blank(),\n",
    "          panel_background=element_rect(fill='#333f48', color='None')))"
   ]
  },
  {
   "cell_type": "markdown",
   "metadata": {},
   "source": [
    "### Are 'Texas is back' posts mainly in game threads?"
   ]
  },
  {
   "cell_type": "code",
   "execution_count": 13,
   "metadata": {},
   "outputs": [
    {
     "data": {
      "image/png": "[encoded data removed]",
      "text/plain": [
       "<Figure size 640x480 with 1 Axes>"
      ]
     },
     "metadata": {},
     "output_type": "display_data"
    },
    {
     "data": {
      "text/plain": [
       "<ggplot: (8772496507883)>"
      ]
     },
     "execution_count": 13,
     "metadata": {},
     "output_type": "execute_result"
    }
   ],
   "source": [
    "(ggplot(comment_df.dropna(), aes(x='is_game_thread')) +\n",
    "    geom_bar(fill='#bf5700') +\n",
    "    ggtitle(\"'Texas is Back' Comments in Game Threads vs Other Threads\") +\n",
    "    ylab('Number of Comments') +\n",
    "    xlab('Is the comment in a game thread/postgame thread?') +\n",
    "    theme_dark() +\n",
    "    theme(axis_text_x=element_text(rotation=90, hjust=1),\n",
    "          panel_grid_minor=element_blank(),\n",
    "          panel_background=element_rect(fill='#333f48', color='None'))\n",
    ")"
   ]
  },
  {
   "cell_type": "markdown",
   "metadata": {},
   "source": [
    "### Are some users particularly attached to 'Texas is back'?"
   ]
  },
  {
   "cell_type": "code",
   "execution_count": 14,
   "metadata": {},
   "outputs": [
    {
     "data": {
      "text/html": [
       "<div>\n",
       "<style scoped>\n",
       "    .dataframe tbody tr th:only-of-type {\n",
       "        vertical-align: middle;\n",
       "    }\n",
       "\n",
       "    .dataframe tbody tr th {\n",
       "        vertical-align: top;\n",
       "    }\n",
       "\n",
       "    .dataframe thead th {\n",
       "        text-align: right;\n",
       "    }\n",
       "</style>\n",
       "<table border=\"1\" class=\"dataframe\">\n",
       "  <thead>\n",
       "    <tr style=\"text-align: right;\">\n",
       "      <th></th>\n",
       "      <th>author</th>\n",
       "    </tr>\n",
       "  </thead>\n",
       "  <tbody>\n",
       "    <tr>\n",
       "      <th>TheNinoOfEl</th>\n",
       "      <td>27</td>\n",
       "    </tr>\n",
       "    <tr>\n",
       "      <th>eye_can_see_you</th>\n",
       "      <td>13</td>\n",
       "    </tr>\n",
       "    <tr>\n",
       "      <th>TrojanMuffin</th>\n",
       "      <td>13</td>\n",
       "    </tr>\n",
       "    <tr>\n",
       "      <th>[deleted]</th>\n",
       "      <td>13</td>\n",
       "    </tr>\n",
       "    <tr>\n",
       "      <th>laela_says</th>\n",
       "      <td>11</td>\n",
       "    </tr>\n",
       "  </tbody>\n",
       "</table>\n",
       "</div>"
      ],
      "text/plain": [
       "                 author\n",
       "TheNinoOfEl          27\n",
       "eye_can_see_you      13\n",
       "TrojanMuffin         13\n",
       "[deleted]            13\n",
       "laela_says           11"
      ]
     },
     "execution_count": 14,
     "metadata": {},
     "output_type": "execute_result"
    }
   ],
   "source": [
    "comment_df['author'].value_counts().to_frame().head(5)"
   ]
  },
  {
   "cell_type": "code",
   "execution_count": 15,
   "metadata": {},
   "outputs": [
    {
     "data": {
      "image/png": "[encoded data removed]",
      "text/plain": [
       "<Figure size 640x480 with 1 Axes>"
      ]
     },
     "metadata": {},
     "output_type": "display_data"
    },
    {
     "data": {
      "text/plain": [
       "<ggplot: (8772496509805)>"
      ]
     },
     "execution_count": 15,
     "metadata": {},
     "output_type": "execute_result"
    }
   ],
   "source": [
    "(ggplot(comment_df['author'].value_counts().to_frame(), aes(x='author')) +\n",
    "    geom_histogram(fill='#BF5700', bins=10) + \n",
    "    ggtitle(\"Distribution of 'Texas is back' by user\") +\n",
    "    ylab('Number of Users') +\n",
    "    xlab(\"Times user commented 'Texas is back'\") +\n",
    "    theme_dark() +\n",
    "    theme(axis_text_x=element_text(rotation=90, hjust=1),\n",
    "          panel_grid_minor=element_blank(),\n",
    "          panel_background=element_rect(fill='#333f48', color='None'))\n",
    ")"
   ]
  },
  {
   "cell_type": "markdown",
   "metadata": {},
   "source": [
    "### Which team's fans love the meme the most?"
   ]
  },
  {
   "cell_type": "code",
   "execution_count": 16,
   "metadata": {},
   "outputs": [
    {
     "data": {
      "text/html": [
       "<div>\n",
       "<style scoped>\n",
       "    .dataframe tbody tr th:only-of-type {\n",
       "        vertical-align: middle;\n",
       "    }\n",
       "\n",
       "    .dataframe tbody tr th {\n",
       "        vertical-align: top;\n",
       "    }\n",
       "\n",
       "    .dataframe thead th {\n",
       "        text-align: right;\n",
       "    }\n",
       "</style>\n",
       "<table border=\"1\" class=\"dataframe\">\n",
       "  <thead>\n",
       "    <tr style=\"text-align: right;\">\n",
       "      <th></th>\n",
       "      <th>flair</th>\n",
       "    </tr>\n",
       "  </thead>\n",
       "  <tbody>\n",
       "    <tr>\n",
       "      <th>None</th>\n",
       "      <td>1975</td>\n",
       "    </tr>\n",
       "    <tr>\n",
       "      <th>texas</th>\n",
       "      <td>380</td>\n",
       "    </tr>\n",
       "    <tr>\n",
       "      <th>oklahoma</th>\n",
       "      <td>211</td>\n",
       "    </tr>\n",
       "    <tr>\n",
       "      <th>texasam</th>\n",
       "      <td>167</td>\n",
       "    </tr>\n",
       "    <tr>\n",
       "      <th>alabama</th>\n",
       "      <td>146</td>\n",
       "    </tr>\n",
       "    <tr>\n",
       "      <th>ohiostate</th>\n",
       "      <td>144</td>\n",
       "    </tr>\n",
       "    <tr>\n",
       "      <th>michigan</th>\n",
       "      <td>99</td>\n",
       "    </tr>\n",
       "    <tr>\n",
       "      <th>georgia</th>\n",
       "      <td>95</td>\n",
       "    </tr>\n",
       "    <tr>\n",
       "      <th>notredame</th>\n",
       "      <td>61</td>\n",
       "    </tr>\n",
       "    <tr>\n",
       "      <th>oklahomastate</th>\n",
       "      <td>57</td>\n",
       "    </tr>\n",
       "  </tbody>\n",
       "</table>\n",
       "</div>"
      ],
      "text/plain": [
       "               flair\n",
       "None            1975\n",
       "texas            380\n",
       "oklahoma         211\n",
       "texasam          167\n",
       "alabama          146\n",
       "ohiostate        144\n",
       "michigan          99\n",
       "georgia           95\n",
       "notredame         61\n",
       "oklahomastate     57"
      ]
     },
     "execution_count": 16,
     "metadata": {},
     "output_type": "execute_result"
    }
   ],
   "source": [
    "comment_df['flair'].value_counts().to_frame().head(10)"
   ]
  }
 ],
 "metadata": {
  "kernelspec": {
   "display_name": "tex",
   "language": "python",
   "name": "tex"
  },
  "language_info": {
   "codemirror_mode": {
    "name": "ipython",
    "version": 3
   },
   "file_extension": ".py",
   "mimetype": "text/x-python",
   "name": "python",
   "nbconvert_exporter": "python",
   "pygments_lexer": "ipython3",
   "version": "3.8.0"
  }
 },
 "nbformat": 4,
 "nbformat_minor": 2
}
